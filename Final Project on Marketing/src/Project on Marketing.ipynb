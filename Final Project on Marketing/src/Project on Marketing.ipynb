{
 "cells": [
  {
   "cell_type": "code",
   "execution_count": 2,
   "metadata": {
    "collapsed": true
   },
   "outputs": [],
   "source": [
    "# Import Libraries\n",
    "import pandas as pd\n",
    "import numpy as np\n",
    "import xlsxwriter\n",
    "import matplotlib.pyplot as plt\n",
    "\n",
    "#show plot in notebook\n",
    "%matplotlib inline \n",
    "\n",
    "#limits amount of lines pandas prints out\n",
    "from pandas import set_option \n",
    "set_option('display.max_rows', 10)"
   ]
  },
  {
   "cell_type": "markdown",
   "metadata": {},
   "source": [
    "# Importing and Cleaning Data"
   ]
  },
  {
   "cell_type": "code",
   "execution_count": 4,
   "metadata": {
    "collapsed": false
   },
   "outputs": [
    {
     "data": {
      "text/html": [
       "<div>\n",
       "<table border=\"1\" class=\"dataframe\">\n",
       "  <thead>\n",
       "    <tr style=\"text-align: right;\">\n",
       "      <th></th>\n",
       "      <th>Exchange Rate</th>\n",
       "      <th>Customer</th>\n",
       "      <th>Field</th>\n",
       "      <th>Date of Order</th>\n",
       "      <th>Total Sales</th>\n",
       "      <th>Year of First Order</th>\n",
       "      <th>New/Returning Customer</th>\n",
       "    </tr>\n",
       "  </thead>\n",
       "  <tbody>\n",
       "    <tr>\n",
       "      <th>0</th>\n",
       "      <td>1.2563</td>\n",
       "      <td>3M Maplewood</td>\n",
       "      <td>solutions provider</td>\n",
       "      <td>2015-04-13</td>\n",
       "      <td>3267.00</td>\n",
       "      <td>2009</td>\n",
       "      <td>Returning</td>\n",
       "    </tr>\n",
       "    <tr>\n",
       "      <th>1</th>\n",
       "      <td>1.2188</td>\n",
       "      <td>ABB Australia Pty Limited</td>\n",
       "      <td>engine technology</td>\n",
       "      <td>2015-05-21</td>\n",
       "      <td>480.00</td>\n",
       "      <td>2008</td>\n",
       "      <td>Returning</td>\n",
       "    </tr>\n",
       "    <tr>\n",
       "      <th>2</th>\n",
       "      <td>1.1800</td>\n",
       "      <td>Accutech Instrumentation</td>\n",
       "      <td>distributor</td>\n",
       "      <td>2015-01-13</td>\n",
       "      <td>18990.40</td>\n",
       "      <td>2013</td>\n",
       "      <td>Returning</td>\n",
       "    </tr>\n",
       "    <tr>\n",
       "      <th>3</th>\n",
       "      <td>1.0000</td>\n",
       "      <td>Advanced Engine Technology</td>\n",
       "      <td>engine technology</td>\n",
       "      <td>2015-06-23</td>\n",
       "      <td>7330.92</td>\n",
       "      <td>2008</td>\n",
       "      <td>Returning</td>\n",
       "    </tr>\n",
       "    <tr>\n",
       "      <th>4</th>\n",
       "      <td>1.1894</td>\n",
       "      <td>Agronova</td>\n",
       "      <td>food</td>\n",
       "      <td>2015-01-12</td>\n",
       "      <td>1746.00</td>\n",
       "      <td>2005</td>\n",
       "      <td>Returning</td>\n",
       "    </tr>\n",
       "    <tr>\n",
       "      <th>...</th>\n",
       "      <td>...</td>\n",
       "      <td>...</td>\n",
       "      <td>...</td>\n",
       "      <td>...</td>\n",
       "      <td>...</td>\n",
       "      <td>...</td>\n",
       "      <td>...</td>\n",
       "    </tr>\n",
       "    <tr>\n",
       "      <th>747</th>\n",
       "      <td>1.0000</td>\n",
       "      <td>Weatherford</td>\n",
       "      <td>oil &amp; gas</td>\n",
       "      <td>2014-03-18</td>\n",
       "      <td>1736.47</td>\n",
       "      <td>2013-11-01 00:00:00</td>\n",
       "      <td>New</td>\n",
       "    </tr>\n",
       "    <tr>\n",
       "      <th>748</th>\n",
       "      <td>1.0000</td>\n",
       "      <td>Weatherford</td>\n",
       "      <td>oil &amp; gas</td>\n",
       "      <td>2014-03-19</td>\n",
       "      <td>1803.00</td>\n",
       "      <td>2013-11-01 00:00:00</td>\n",
       "      <td>New</td>\n",
       "    </tr>\n",
       "    <tr>\n",
       "      <th>749</th>\n",
       "      <td>1.0000</td>\n",
       "      <td>Weatherford</td>\n",
       "      <td>oil &amp; gas</td>\n",
       "      <td>2014-05-02</td>\n",
       "      <td>213.00</td>\n",
       "      <td>2013-11-01 00:00:00</td>\n",
       "      <td>New</td>\n",
       "    </tr>\n",
       "    <tr>\n",
       "      <th>750</th>\n",
       "      <td>1.0000</td>\n",
       "      <td>Weatherford</td>\n",
       "      <td>oil &amp; gas</td>\n",
       "      <td>2014-05-02</td>\n",
       "      <td>3462.00</td>\n",
       "      <td>2013-11-01 00:00:00</td>\n",
       "      <td>New</td>\n",
       "    </tr>\n",
       "    <tr>\n",
       "      <th>751</th>\n",
       "      <td>1.0000</td>\n",
       "      <td>Weatherford</td>\n",
       "      <td>oil &amp; gas</td>\n",
       "      <td>2014-07-02</td>\n",
       "      <td>4807.00</td>\n",
       "      <td>2013-11-01 00:00:00</td>\n",
       "      <td>New</td>\n",
       "    </tr>\n",
       "  </tbody>\n",
       "</table>\n",
       "<p>752 rows × 7 columns</p>\n",
       "</div>"
      ],
      "text/plain": [
       "     Exchange Rate                     Customer               Field  \\\n",
       "0           1.2563                 3M Maplewood  solutions provider   \n",
       "1           1.2188    ABB Australia Pty Limited   engine technology   \n",
       "2           1.1800     Accutech Instrumentation         distributor   \n",
       "3           1.0000  Advanced Engine Technology   engine technology    \n",
       "4           1.1894                    Agronova                 food   \n",
       "..             ...                          ...                 ...   \n",
       "747         1.0000                  Weatherford           oil & gas   \n",
       "748         1.0000                  Weatherford           oil & gas   \n",
       "749         1.0000                  Weatherford           oil & gas   \n",
       "750         1.0000                  Weatherford           oil & gas   \n",
       "751         1.0000                  Weatherford           oil & gas   \n",
       "\n",
       "    Date of Order  Total Sales  Year of First Order New/Returning Customer  \n",
       "0      2015-04-13      3267.00                 2009             Returning   \n",
       "1      2015-05-21       480.00                 2008             Returning   \n",
       "2      2015-01-13     18990.40                 2013             Returning   \n",
       "3      2015-06-23      7330.92                 2008             Returning   \n",
       "4      2015-01-12      1746.00                 2005              Returning  \n",
       "..            ...          ...                  ...                    ...  \n",
       "747    2014-03-18      1736.47  2013-11-01 00:00:00                    New  \n",
       "748    2014-03-19      1803.00  2013-11-01 00:00:00                    New  \n",
       "749    2014-05-02       213.00  2013-11-01 00:00:00                    New  \n",
       "750    2014-05-02      3462.00  2013-11-01 00:00:00                    New  \n",
       "751    2014-07-02      4807.00  2013-11-01 00:00:00                    New  \n",
       "\n",
       "[752 rows x 7 columns]"
      ]
     },
     "execution_count": 4,
     "metadata": {},
     "output_type": "execute_result"
    }
   ],
   "source": [
    "#Loading the main dataset from excel into python, specified taking data from the 'Sales' sheet\n",
    "Sales_df = pd.read_excel('../data/Sales Data11.xlsm', sheetname = 'Sales')\n",
    "Sales_df"
   ]
  },
  {
   "cell_type": "code",
   "execution_count": 5,
   "metadata": {
    "collapsed": false
   },
   "outputs": [],
   "source": [
    "# Renaming the columns \n",
    "Sales_df.columns = [['Exchange_Rate', 'Customer', 'Field', 'Date_of_Order', 'Total_Sales', 'Year_of_First_Order', 'New_or_Returning']]"
   ]
  },
  {
   "cell_type": "markdown",
   "metadata": {},
   "source": [
    "Should you replace the missing exchange rate values with 1? If so why? Would it not be better to look them up for the date on the web?"
   ]
  },
  {
   "cell_type": "code",
   "execution_count": 6,
   "metadata": {
    "collapsed": false
   },
   "outputs": [
    {
     "data": {
      "text/html": [
       "<div>\n",
       "<table border=\"1\" class=\"dataframe\">\n",
       "  <thead>\n",
       "    <tr style=\"text-align: right;\">\n",
       "      <th></th>\n",
       "      <th>Exchange_Rate</th>\n",
       "      <th>Customer</th>\n",
       "      <th>Field</th>\n",
       "      <th>Date_of_Order</th>\n",
       "      <th>Total_Sales</th>\n",
       "      <th>Year_of_First_Order</th>\n",
       "      <th>New_or_Returning</th>\n",
       "    </tr>\n",
       "  </thead>\n",
       "  <tbody>\n",
       "    <tr>\n",
       "      <th>0</th>\n",
       "      <td>1.2563</td>\n",
       "      <td>3M Maplewood</td>\n",
       "      <td>solutions provider</td>\n",
       "      <td>2015-04-13</td>\n",
       "      <td>3267.00</td>\n",
       "      <td>2009</td>\n",
       "      <td>Returning</td>\n",
       "    </tr>\n",
       "    <tr>\n",
       "      <th>1</th>\n",
       "      <td>1.2188</td>\n",
       "      <td>ABB Australia Pty Limited</td>\n",
       "      <td>engine technology</td>\n",
       "      <td>2015-05-21</td>\n",
       "      <td>480.00</td>\n",
       "      <td>2008</td>\n",
       "      <td>Returning</td>\n",
       "    </tr>\n",
       "    <tr>\n",
       "      <th>2</th>\n",
       "      <td>1.1800</td>\n",
       "      <td>Accutech Instrumentation</td>\n",
       "      <td>distributor</td>\n",
       "      <td>2015-01-13</td>\n",
       "      <td>18990.40</td>\n",
       "      <td>2013</td>\n",
       "      <td>Returning</td>\n",
       "    </tr>\n",
       "    <tr>\n",
       "      <th>3</th>\n",
       "      <td>1.0000</td>\n",
       "      <td>Advanced Engine Technology</td>\n",
       "      <td>engine technology</td>\n",
       "      <td>2015-06-23</td>\n",
       "      <td>7330.92</td>\n",
       "      <td>2008</td>\n",
       "      <td>Returning</td>\n",
       "    </tr>\n",
       "    <tr>\n",
       "      <th>4</th>\n",
       "      <td>1.1894</td>\n",
       "      <td>Agronova</td>\n",
       "      <td>food</td>\n",
       "      <td>2015-01-12</td>\n",
       "      <td>1746.00</td>\n",
       "      <td>2005</td>\n",
       "      <td>Returning</td>\n",
       "    </tr>\n",
       "  </tbody>\n",
       "</table>\n",
       "</div>"
      ],
      "text/plain": [
       "   Exchange_Rate                     Customer               Field  \\\n",
       "0         1.2563                 3M Maplewood  solutions provider   \n",
       "1         1.2188    ABB Australia Pty Limited   engine technology   \n",
       "2         1.1800     Accutech Instrumentation         distributor   \n",
       "3         1.0000  Advanced Engine Technology   engine technology    \n",
       "4         1.1894                    Agronova                 food   \n",
       "\n",
       "  Date_of_Order  Total_Sales Year_of_First_Order New_or_Returning  \n",
       "0    2015-04-13      3267.00                2009       Returning   \n",
       "1    2015-05-21       480.00                2008       Returning   \n",
       "2    2015-01-13     18990.40                2013       Returning   \n",
       "3    2015-06-23      7330.92                2008       Returning   \n",
       "4    2015-01-12      1746.00                2005        Returning  "
      ]
     },
     "execution_count": 6,
     "metadata": {},
     "output_type": "execute_result"
    }
   ],
   "source": [
    "# Replacing the empty values in the Exchange Rate column with 1. \n",
    "Sales_df1 = Sales_df[['Exchange_Rate', 'Customer', 'Field', 'Date_of_Order', 'Total_Sales', 'Year_of_First_Order', 'New_or_Returning']].replace([None], [1])\n",
    "Sales_df1.head()"
   ]
  },
  {
   "cell_type": "code",
   "execution_count": 13,
   "metadata": {
    "collapsed": false
   },
   "outputs": [
    {
     "data": {
      "text/html": [
       "<div>\n",
       "<table border=\"1\" class=\"dataframe\">\n",
       "  <thead>\n",
       "    <tr style=\"text-align: right;\">\n",
       "      <th></th>\n",
       "      <th>Exchange_Rate</th>\n",
       "      <th>Customer</th>\n",
       "      <th>Field</th>\n",
       "      <th>Date_of_Order</th>\n",
       "      <th>Total_Sales</th>\n",
       "      <th>Year_of_First_Order</th>\n",
       "      <th>New_or_Returning</th>\n",
       "      <th>Sales_in_CAD</th>\n",
       "    </tr>\n",
       "  </thead>\n",
       "  <tbody>\n",
       "    <tr>\n",
       "      <th>0</th>\n",
       "      <td>1.2563</td>\n",
       "      <td>3M Maplewood</td>\n",
       "      <td>solutions provider</td>\n",
       "      <td>2015-04-13</td>\n",
       "      <td>3267.00</td>\n",
       "      <td>2009</td>\n",
       "      <td>Returning</td>\n",
       "      <td>4104.3321</td>\n",
       "    </tr>\n",
       "    <tr>\n",
       "      <th>1</th>\n",
       "      <td>1.2188</td>\n",
       "      <td>ABB Australia Pty Limited</td>\n",
       "      <td>engine technology</td>\n",
       "      <td>2015-05-21</td>\n",
       "      <td>480.00</td>\n",
       "      <td>2008</td>\n",
       "      <td>Returning</td>\n",
       "      <td>585.0240</td>\n",
       "    </tr>\n",
       "    <tr>\n",
       "      <th>2</th>\n",
       "      <td>1.1800</td>\n",
       "      <td>Accutech Instrumentation</td>\n",
       "      <td>distributor</td>\n",
       "      <td>2015-01-13</td>\n",
       "      <td>18990.40</td>\n",
       "      <td>2013</td>\n",
       "      <td>Returning</td>\n",
       "      <td>22408.6720</td>\n",
       "    </tr>\n",
       "    <tr>\n",
       "      <th>3</th>\n",
       "      <td>1.0000</td>\n",
       "      <td>Advanced Engine Technology</td>\n",
       "      <td>engine technology</td>\n",
       "      <td>2015-06-23</td>\n",
       "      <td>7330.92</td>\n",
       "      <td>2008</td>\n",
       "      <td>Returning</td>\n",
       "      <td>7330.9200</td>\n",
       "    </tr>\n",
       "    <tr>\n",
       "      <th>4</th>\n",
       "      <td>1.1894</td>\n",
       "      <td>Agronova</td>\n",
       "      <td>food</td>\n",
       "      <td>2015-01-12</td>\n",
       "      <td>1746.00</td>\n",
       "      <td>2005</td>\n",
       "      <td>Returning</td>\n",
       "      <td>2076.6924</td>\n",
       "    </tr>\n",
       "  </tbody>\n",
       "</table>\n",
       "</div>"
      ],
      "text/plain": [
       "   Exchange_Rate                     Customer               Field  \\\n",
       "0         1.2563                 3M Maplewood  solutions provider   \n",
       "1         1.2188    ABB Australia Pty Limited   engine technology   \n",
       "2         1.1800     Accutech Instrumentation         distributor   \n",
       "3         1.0000  Advanced Engine Technology   engine technology    \n",
       "4         1.1894                    Agronova                 food   \n",
       "\n",
       "  Date_of_Order  Total_Sales Year_of_First_Order New_or_Returning  \\\n",
       "0    2015-04-13      3267.00                2009       Returning    \n",
       "1    2015-05-21       480.00                2008       Returning    \n",
       "2    2015-01-13     18990.40                2013       Returning    \n",
       "3    2015-06-23      7330.92                2008       Returning    \n",
       "4    2015-01-12      1746.00                2005        Returning   \n",
       "\n",
       "   Sales_in_CAD  \n",
       "0     4104.3321  \n",
       "1      585.0240  \n",
       "2    22408.6720  \n",
       "3     7330.9200  \n",
       "4     2076.6924  "
      ]
     },
     "execution_count": 13,
     "metadata": {},
     "output_type": "execute_result"
    }
   ],
   "source": [
    "# Creating a new column in the data set, which puts all sales amounts in Canadian dollars. \n",
    "Sales_df1['Sales_in_CAD'] = Sales_df1['Exchange_Rate'] * Sales_df1['Total_Sales'] \n",
    "Sales_df1.head()"
   ]
  },
  {
   "cell_type": "markdown",
   "metadata": {},
   "source": [
    "# PLOT 1: Resampling data to make a plot that compares money spent on ads per month to sales coming from new customers & number of new customers."
   ]
  },
  {
   "cell_type": "markdown",
   "metadata": {},
   "source": [
    "Your code below still gave a dataframe with some customers that were returning because your New_or_Returning column contains both 'Returning' and 'Returning '. Thus using 'New' works better because there is only one version of new. The 3 cells below can be deleted, but they just show you the different lengths when you select with different the strings."
   ]
  },
  {
   "cell_type": "code",
   "execution_count": 18,
   "metadata": {
    "collapsed": false
   },
   "outputs": [
    {
     "data": {
      "text/plain": [
       "752"
      ]
     },
     "execution_count": 18,
     "metadata": {},
     "output_type": "execute_result"
    }
   ],
   "source": [
    "#First I check the length of Sales_df1\n",
    "len(Sales_df1)"
   ]
  },
  {
   "cell_type": "code",
   "execution_count": 19,
   "metadata": {
    "collapsed": false
   },
   "outputs": [
    {
     "data": {
      "text/plain": [
       "334"
      ]
     },
     "execution_count": 19,
     "metadata": {},
     "output_type": "execute_result"
    }
   ],
   "source": [
    "# I make a new dataframe containing only new records and check the length\n",
    "New_customers = Sales_df1[Sales_df.New_or_Returning == 'New']\n",
    "len(New_customers)"
   ]
  },
  {
   "cell_type": "code",
   "execution_count": 23,
   "metadata": {
    "collapsed": false
   },
   "outputs": [
    {
     "data": {
      "text/plain": [
       "752"
      ]
     },
     "execution_count": 23,
     "metadata": {},
     "output_type": "execute_result"
    }
   ],
   "source": [
    "# I then check the length of Returning customers, \n",
    "# to make sure len(new) + len(returning) = len(Sales_df1)\n",
    "len(New_customers) + len(Sales_df1[Sales_df.New_or_Returning == 'Returning ']) + len(Sales_df1[Sales_df.New_or_Returning == 'Returning'])"
   ]
  },
  {
   "cell_type": "code",
   "execution_count": 24,
   "metadata": {
    "collapsed": false
   },
   "outputs": [
    {
     "data": {
      "text/html": [
       "<div>\n",
       "<table border=\"1\" class=\"dataframe\">\n",
       "  <thead>\n",
       "    <tr style=\"text-align: right;\">\n",
       "      <th></th>\n",
       "      <th>Exchange_Rate</th>\n",
       "      <th>Customer</th>\n",
       "      <th>Field</th>\n",
       "      <th>Date_of_Order</th>\n",
       "      <th>Total_Sales</th>\n",
       "      <th>Year_of_First_Order</th>\n",
       "      <th>New_or_Returning</th>\n",
       "      <th>Sales_in_CAD</th>\n",
       "    </tr>\n",
       "  </thead>\n",
       "  <tbody>\n",
       "    <tr>\n",
       "      <th>228</th>\n",
       "      <td>1.2524</td>\n",
       "      <td>Advanced Analytical Technologies</td>\n",
       "      <td>chemical</td>\n",
       "      <td>2015-01-29</td>\n",
       "      <td>754.00</td>\n",
       "      <td>2015</td>\n",
       "      <td>New</td>\n",
       "      <td>944.30960</td>\n",
       "    </tr>\n",
       "    <tr>\n",
       "      <th>229</th>\n",
       "      <td>1.2457</td>\n",
       "      <td>Advanced Research Chemicals</td>\n",
       "      <td>chemical</td>\n",
       "      <td>2015-03-06</td>\n",
       "      <td>1621.00</td>\n",
       "      <td>2015</td>\n",
       "      <td>New</td>\n",
       "      <td>2019.27970</td>\n",
       "    </tr>\n",
       "    <tr>\n",
       "      <th>230</th>\n",
       "      <td>1.2103</td>\n",
       "      <td>Argen Polymer</td>\n",
       "      <td>material science</td>\n",
       "      <td>2015-04-24</td>\n",
       "      <td>3435.00</td>\n",
       "      <td>2015</td>\n",
       "      <td>New</td>\n",
       "      <td>4157.38050</td>\n",
       "    </tr>\n",
       "    <tr>\n",
       "      <th>231</th>\n",
       "      <td>1.2539</td>\n",
       "      <td>Attilla Cziko Rosa</td>\n",
       "      <td>food</td>\n",
       "      <td>2015-02-23</td>\n",
       "      <td>1586.40</td>\n",
       "      <td>2015</td>\n",
       "      <td>New</td>\n",
       "      <td>1989.18696</td>\n",
       "    </tr>\n",
       "    <tr>\n",
       "      <th>232</th>\n",
       "      <td>1.0000</td>\n",
       "      <td>Avon Fluid Systems Tech</td>\n",
       "      <td>valve manufacturer</td>\n",
       "      <td>2014-09-10</td>\n",
       "      <td>6220.20</td>\n",
       "      <td>2014-09-01 00:00:00</td>\n",
       "      <td>New</td>\n",
       "      <td>6220.20000</td>\n",
       "    </tr>\n",
       "    <tr>\n",
       "      <th>...</th>\n",
       "      <td>...</td>\n",
       "      <td>...</td>\n",
       "      <td>...</td>\n",
       "      <td>...</td>\n",
       "      <td>...</td>\n",
       "      <td>...</td>\n",
       "      <td>...</td>\n",
       "      <td>...</td>\n",
       "    </tr>\n",
       "    <tr>\n",
       "      <th>747</th>\n",
       "      <td>1.0000</td>\n",
       "      <td>Weatherford</td>\n",
       "      <td>oil &amp; gas</td>\n",
       "      <td>2014-03-18</td>\n",
       "      <td>1736.47</td>\n",
       "      <td>2013-11-01 00:00:00</td>\n",
       "      <td>New</td>\n",
       "      <td>1736.47000</td>\n",
       "    </tr>\n",
       "    <tr>\n",
       "      <th>748</th>\n",
       "      <td>1.0000</td>\n",
       "      <td>Weatherford</td>\n",
       "      <td>oil &amp; gas</td>\n",
       "      <td>2014-03-19</td>\n",
       "      <td>1803.00</td>\n",
       "      <td>2013-11-01 00:00:00</td>\n",
       "      <td>New</td>\n",
       "      <td>1803.00000</td>\n",
       "    </tr>\n",
       "    <tr>\n",
       "      <th>749</th>\n",
       "      <td>1.0000</td>\n",
       "      <td>Weatherford</td>\n",
       "      <td>oil &amp; gas</td>\n",
       "      <td>2014-05-02</td>\n",
       "      <td>213.00</td>\n",
       "      <td>2013-11-01 00:00:00</td>\n",
       "      <td>New</td>\n",
       "      <td>213.00000</td>\n",
       "    </tr>\n",
       "    <tr>\n",
       "      <th>750</th>\n",
       "      <td>1.0000</td>\n",
       "      <td>Weatherford</td>\n",
       "      <td>oil &amp; gas</td>\n",
       "      <td>2014-05-02</td>\n",
       "      <td>3462.00</td>\n",
       "      <td>2013-11-01 00:00:00</td>\n",
       "      <td>New</td>\n",
       "      <td>3462.00000</td>\n",
       "    </tr>\n",
       "    <tr>\n",
       "      <th>751</th>\n",
       "      <td>1.0000</td>\n",
       "      <td>Weatherford</td>\n",
       "      <td>oil &amp; gas</td>\n",
       "      <td>2014-07-02</td>\n",
       "      <td>4807.00</td>\n",
       "      <td>2013-11-01 00:00:00</td>\n",
       "      <td>New</td>\n",
       "      <td>4807.00000</td>\n",
       "    </tr>\n",
       "  </tbody>\n",
       "</table>\n",
       "<p>334 rows × 8 columns</p>\n",
       "</div>"
      ],
      "text/plain": [
       "     Exchange_Rate                          Customer               Field  \\\n",
       "228         1.2524  Advanced Analytical Technologies            chemical   \n",
       "229         1.2457      Advanced Research Chemicals            chemical    \n",
       "230         1.2103                     Argen Polymer   material science    \n",
       "231         1.2539                Attilla Cziko Rosa                food   \n",
       "232         1.0000           Avon Fluid Systems Tech  valve manufacturer   \n",
       "..             ...                               ...                 ...   \n",
       "747         1.0000                       Weatherford           oil & gas   \n",
       "748         1.0000                       Weatherford           oil & gas   \n",
       "749         1.0000                       Weatherford           oil & gas   \n",
       "750         1.0000                       Weatherford           oil & gas   \n",
       "751         1.0000                       Weatherford           oil & gas   \n",
       "\n",
       "    Date_of_Order  Total_Sales  Year_of_First_Order New_or_Returning  \\\n",
       "228    2015-01-29       754.00                 2015              New   \n",
       "229    2015-03-06      1621.00                 2015              New   \n",
       "230    2015-04-24      3435.00                 2015              New   \n",
       "231    2015-02-23      1586.40                 2015              New   \n",
       "232    2014-09-10      6220.20  2014-09-01 00:00:00              New   \n",
       "..            ...          ...                  ...              ...   \n",
       "747    2014-03-18      1736.47  2013-11-01 00:00:00              New   \n",
       "748    2014-03-19      1803.00  2013-11-01 00:00:00              New   \n",
       "749    2014-05-02       213.00  2013-11-01 00:00:00              New   \n",
       "750    2014-05-02      3462.00  2013-11-01 00:00:00              New   \n",
       "751    2014-07-02      4807.00  2013-11-01 00:00:00              New   \n",
       "\n",
       "     Sales_in_CAD  \n",
       "228     944.30960  \n",
       "229    2019.27970  \n",
       "230    4157.38050  \n",
       "231    1989.18696  \n",
       "232    6220.20000  \n",
       "..            ...  \n",
       "747    1736.47000  \n",
       "748    1803.00000  \n",
       "749     213.00000  \n",
       "750    3462.00000  \n",
       "751    4807.00000  \n",
       "\n",
       "[334 rows x 8 columns]"
      ]
     },
     "execution_count": 24,
     "metadata": {},
     "output_type": "execute_result"
    }
   ],
   "source": [
    "# Deleting all rows of sales from returning customers\n",
    "New_customers = Sales_df1[Sales_df.New_or_Returning == 'New']\n",
    "New_customers"
   ]
  },
  {
   "cell_type": "markdown",
   "metadata": {},
   "source": [
    "Why do you name the new dataframe resampled if you have not resampled?"
   ]
  },
  {
   "cell_type": "code",
   "execution_count": 30,
   "metadata": {
    "collapsed": false
   },
   "outputs": [
    {
     "data": {
      "text/html": [
       "<div>\n",
       "<table border=\"1\" class=\"dataframe\">\n",
       "  <thead>\n",
       "    <tr style=\"text-align: right;\">\n",
       "      <th></th>\n",
       "      <th>Total_Sales</th>\n",
       "      <th>New_or_Returning</th>\n",
       "    </tr>\n",
       "    <tr>\n",
       "      <th>Date_of_Order</th>\n",
       "      <th></th>\n",
       "      <th></th>\n",
       "    </tr>\n",
       "  </thead>\n",
       "  <tbody>\n",
       "    <tr>\n",
       "      <th>2015-01-29</th>\n",
       "      <td>754.0</td>\n",
       "      <td>New</td>\n",
       "    </tr>\n",
       "    <tr>\n",
       "      <th>2015-03-06</th>\n",
       "      <td>1621.0</td>\n",
       "      <td>New</td>\n",
       "    </tr>\n",
       "    <tr>\n",
       "      <th>2015-04-24</th>\n",
       "      <td>3435.0</td>\n",
       "      <td>New</td>\n",
       "    </tr>\n",
       "    <tr>\n",
       "      <th>2015-02-23</th>\n",
       "      <td>1586.4</td>\n",
       "      <td>New</td>\n",
       "    </tr>\n",
       "    <tr>\n",
       "      <th>2014-09-10</th>\n",
       "      <td>6220.2</td>\n",
       "      <td>New</td>\n",
       "    </tr>\n",
       "  </tbody>\n",
       "</table>\n",
       "</div>"
      ],
      "text/plain": [
       "               Total_Sales New_or_Returning\n",
       "Date_of_Order                              \n",
       "2015-01-29           754.0              New\n",
       "2015-03-06          1621.0              New\n",
       "2015-04-24          3435.0              New\n",
       "2015-02-23          1586.4              New\n",
       "2014-09-10          6220.2              New"
      ]
     },
     "execution_count": 30,
     "metadata": {},
     "output_type": "execute_result"
    }
   ],
   "source": [
    "# Grabbing 3 columns from the dataset and setting the index to Date of order.\n",
    "Resampled_ind = New_customers[['Date_of_Order', 'Total_Sales', 'New_or_Returning']].set_index('Date_of_Order')\n",
    "Resampled_ind.head()"
   ]
  },
  {
   "cell_type": "code",
   "execution_count": 37,
   "metadata": {
    "collapsed": false
   },
   "outputs": [
    {
     "data": {
      "text/html": [
       "<div>\n",
       "<table border=\"1\" class=\"dataframe\">\n",
       "  <thead>\n",
       "    <tr style=\"text-align: right;\">\n",
       "      <th></th>\n",
       "      <th>New_or_Returning</th>\n",
       "      <th>Total_Sales</th>\n",
       "    </tr>\n",
       "    <tr>\n",
       "      <th>Date_of_Order</th>\n",
       "      <th></th>\n",
       "      <th></th>\n",
       "    </tr>\n",
       "  </thead>\n",
       "  <tbody>\n",
       "    <tr>\n",
       "      <th>2015-01-29</th>\n",
       "      <td>1</td>\n",
       "      <td>754.0</td>\n",
       "    </tr>\n",
       "    <tr>\n",
       "      <th>2015-03-06</th>\n",
       "      <td>1</td>\n",
       "      <td>1621.0</td>\n",
       "    </tr>\n",
       "    <tr>\n",
       "      <th>2015-04-24</th>\n",
       "      <td>1</td>\n",
       "      <td>3435.0</td>\n",
       "    </tr>\n",
       "    <tr>\n",
       "      <th>2015-02-23</th>\n",
       "      <td>1</td>\n",
       "      <td>1586.4</td>\n",
       "    </tr>\n",
       "    <tr>\n",
       "      <th>2014-09-10</th>\n",
       "      <td>1</td>\n",
       "      <td>6220.2</td>\n",
       "    </tr>\n",
       "  </tbody>\n",
       "</table>\n",
       "</div>"
      ],
      "text/plain": [
       "               New_or_Returning  Total_Sales\n",
       "Date_of_Order                               \n",
       "2015-01-29                    1        754.0\n",
       "2015-03-06                    1       1621.0\n",
       "2015-04-24                    1       3435.0\n",
       "2015-02-23                    1       1586.4\n",
       "2014-09-10                    1       6220.2"
      ]
     },
     "execution_count": 37,
     "metadata": {},
     "output_type": "execute_result"
    }
   ],
   "source": [
    "# Replacing the 'New' string with the number 1 so that they can be added later. \n",
    "Change_New = Resampled_ind[['New_or_Returning', 'Total_Sales']].replace(['New'], [1])\n",
    "Change_New.head()"
   ]
  },
  {
   "cell_type": "markdown",
   "metadata": {},
   "source": [
    "Not sure why when you resample you get values from the 1970's... I'm going to ask for earlier values to see if 1 or 2 exist and then if so, that's likely what is getting filled in. "
   ]
  },
  {
   "cell_type": "code",
   "execution_count": 43,
   "metadata": {
    "collapsed": false
   },
   "outputs": [
    {
     "data": {
      "text/html": [
       "<div>\n",
       "<table border=\"1\" class=\"dataframe\">\n",
       "  <thead>\n",
       "    <tr style=\"text-align: right;\">\n",
       "      <th></th>\n",
       "      <th>New_or_Returning</th>\n",
       "      <th>Total_Sales</th>\n",
       "    </tr>\n",
       "    <tr>\n",
       "      <th>Date_of_Order</th>\n",
       "      <th></th>\n",
       "      <th></th>\n",
       "    </tr>\n",
       "  </thead>\n",
       "  <tbody>\n",
       "    <tr>\n",
       "      <th>1970-01-01 00:00:00.000000001</th>\n",
       "      <td>1</td>\n",
       "      <td>5642.39</td>\n",
       "    </tr>\n",
       "    <tr>\n",
       "      <th>1970-01-01 00:00:00.000000001</th>\n",
       "      <td>1</td>\n",
       "      <td>1218.46</td>\n",
       "    </tr>\n",
       "    <tr>\n",
       "      <th>1970-01-01 00:00:00.000000001</th>\n",
       "      <td>1</td>\n",
       "      <td>2988.96</td>\n",
       "    </tr>\n",
       "    <tr>\n",
       "      <th>1970-01-01 00:00:00.000000001</th>\n",
       "      <td>1</td>\n",
       "      <td>4832.10</td>\n",
       "    </tr>\n",
       "    <tr>\n",
       "      <th>1970-01-01 00:00:00.000000001</th>\n",
       "      <td>1</td>\n",
       "      <td>5215.67</td>\n",
       "    </tr>\n",
       "    <tr>\n",
       "      <th>...</th>\n",
       "      <td>...</td>\n",
       "      <td>...</td>\n",
       "    </tr>\n",
       "    <tr>\n",
       "      <th>1970-01-01 00:00:00.000000001</th>\n",
       "      <td>1</td>\n",
       "      <td>11067.39</td>\n",
       "    </tr>\n",
       "    <tr>\n",
       "      <th>1970-01-01 00:00:00.000000001</th>\n",
       "      <td>1</td>\n",
       "      <td>5272.25</td>\n",
       "    </tr>\n",
       "    <tr>\n",
       "      <th>1970-01-01 00:00:00.000000001</th>\n",
       "      <td>1</td>\n",
       "      <td>1628.55</td>\n",
       "    </tr>\n",
       "    <tr>\n",
       "      <th>1970-01-01 00:00:00.000000001</th>\n",
       "      <td>1</td>\n",
       "      <td>1000.00</td>\n",
       "    </tr>\n",
       "    <tr>\n",
       "      <th>1970-01-01 00:00:00.000000001</th>\n",
       "      <td>1</td>\n",
       "      <td>3738.24</td>\n",
       "    </tr>\n",
       "  </tbody>\n",
       "</table>\n",
       "<p>46 rows × 2 columns</p>\n",
       "</div>"
      ],
      "text/plain": [
       "                               New_or_Returning  Total_Sales\n",
       "Date_of_Order                                               \n",
       "1970-01-01 00:00:00.000000001                 1      5642.39\n",
       "1970-01-01 00:00:00.000000001                 1      1218.46\n",
       "1970-01-01 00:00:00.000000001                 1      2988.96\n",
       "1970-01-01 00:00:00.000000001                 1      4832.10\n",
       "1970-01-01 00:00:00.000000001                 1      5215.67\n",
       "...                                         ...          ...\n",
       "1970-01-01 00:00:00.000000001                 1     11067.39\n",
       "1970-01-01 00:00:00.000000001                 1      5272.25\n",
       "1970-01-01 00:00:00.000000001                 1      1628.55\n",
       "1970-01-01 00:00:00.000000001                 1      1000.00\n",
       "1970-01-01 00:00:00.000000001                 1      3738.24\n",
       "\n",
       "[46 rows x 2 columns]"
      ]
     },
     "execution_count": 43,
     "metadata": {},
     "output_type": "execute_result"
    }
   ],
   "source": [
    "Change_New[Change_New.index < '2000-01-01']"
   ]
  },
  {
   "cell_type": "markdown",
   "metadata": {},
   "source": [
    "So it looks like you have 46 columns which had no dates when you coverted to date time? They have been assigned an date that is not meaningful for you. I will make a new dataframe that does not include them."
   ]
  },
  {
   "cell_type": "code",
   "execution_count": 44,
   "metadata": {
    "collapsed": true
   },
   "outputs": [],
   "source": [
    "Change_New = Change_New[Change_New.index > '1980-01-01']"
   ]
  },
  {
   "cell_type": "code",
   "execution_count": 45,
   "metadata": {
    "collapsed": false
   },
   "outputs": [
    {
     "data": {
      "text/html": [
       "<div>\n",
       "<table border=\"1\" class=\"dataframe\">\n",
       "  <thead>\n",
       "    <tr style=\"text-align: right;\">\n",
       "      <th></th>\n",
       "      <th>New_or_Returning</th>\n",
       "      <th>Total_Sales</th>\n",
       "    </tr>\n",
       "    <tr>\n",
       "      <th>Date_of_Order</th>\n",
       "      <th></th>\n",
       "      <th></th>\n",
       "    </tr>\n",
       "  </thead>\n",
       "  <tbody>\n",
       "    <tr>\n",
       "      <th>2010-08-31</th>\n",
       "      <td>1</td>\n",
       "      <td>24318.92</td>\n",
       "    </tr>\n",
       "    <tr>\n",
       "      <th>2010-09-30</th>\n",
       "      <td>3</td>\n",
       "      <td>38197.00</td>\n",
       "    </tr>\n",
       "    <tr>\n",
       "      <th>2010-10-31</th>\n",
       "      <td>2</td>\n",
       "      <td>14967.60</td>\n",
       "    </tr>\n",
       "    <tr>\n",
       "      <th>2010-11-30</th>\n",
       "      <td>3</td>\n",
       "      <td>21461.66</td>\n",
       "    </tr>\n",
       "    <tr>\n",
       "      <th>2010-12-31</th>\n",
       "      <td>3</td>\n",
       "      <td>23468.45</td>\n",
       "    </tr>\n",
       "    <tr>\n",
       "      <th>...</th>\n",
       "      <td>...</td>\n",
       "      <td>...</td>\n",
       "    </tr>\n",
       "    <tr>\n",
       "      <th>2015-03-31</th>\n",
       "      <td>3</td>\n",
       "      <td>7927.00</td>\n",
       "    </tr>\n",
       "    <tr>\n",
       "      <th>2015-04-30</th>\n",
       "      <td>9</td>\n",
       "      <td>44019.56</td>\n",
       "    </tr>\n",
       "    <tr>\n",
       "      <th>2015-05-31</th>\n",
       "      <td>5</td>\n",
       "      <td>7170.32</td>\n",
       "    </tr>\n",
       "    <tr>\n",
       "      <th>2015-06-30</th>\n",
       "      <td>9</td>\n",
       "      <td>30735.00</td>\n",
       "    </tr>\n",
       "    <tr>\n",
       "      <th>2015-07-31</th>\n",
       "      <td>15</td>\n",
       "      <td>37845.98</td>\n",
       "    </tr>\n",
       "  </tbody>\n",
       "</table>\n",
       "<p>60 rows × 2 columns</p>\n",
       "</div>"
      ],
      "text/plain": [
       "               New_or_Returning  Total_Sales\n",
       "Date_of_Order                               \n",
       "2010-08-31                    1     24318.92\n",
       "2010-09-30                    3     38197.00\n",
       "2010-10-31                    2     14967.60\n",
       "2010-11-30                    3     21461.66\n",
       "2010-12-31                    3     23468.45\n",
       "...                         ...          ...\n",
       "2015-03-31                    3      7927.00\n",
       "2015-04-30                    9     44019.56\n",
       "2015-05-31                    5      7170.32\n",
       "2015-06-30                    9     30735.00\n",
       "2015-07-31                   15     37845.98\n",
       "\n",
       "[60 rows x 2 columns]"
      ]
     },
     "execution_count": 45,
     "metadata": {},
     "output_type": "execute_result"
    }
   ],
   "source": [
    "# Data is downsampled to month, taking the sum of the Sales and the new customers in each month. \n",
    "Index_by_Month = Change_New.resample('M', how=('sum'))   \n",
    "Index_by_Month"
   ]
  },
  {
   "cell_type": "code",
   "execution_count": 46,
   "metadata": {
    "collapsed": false
   },
   "outputs": [
    {
     "data": {
      "text/html": [
       "<div>\n",
       "<table border=\"1\" class=\"dataframe\">\n",
       "  <thead>\n",
       "    <tr style=\"text-align: right;\">\n",
       "      <th></th>\n",
       "      <th>New_or_Returning</th>\n",
       "      <th>Total_Sales</th>\n",
       "    </tr>\n",
       "    <tr>\n",
       "      <th>Date_of_Order</th>\n",
       "      <th></th>\n",
       "      <th></th>\n",
       "    </tr>\n",
       "  </thead>\n",
       "  <tbody>\n",
       "    <tr>\n",
       "      <th>2013-08-31</th>\n",
       "      <td>3</td>\n",
       "      <td>7410.00</td>\n",
       "    </tr>\n",
       "    <tr>\n",
       "      <th>2013-09-30</th>\n",
       "      <td>4</td>\n",
       "      <td>13538.40</td>\n",
       "    </tr>\n",
       "    <tr>\n",
       "      <th>2013-10-31</th>\n",
       "      <td>5</td>\n",
       "      <td>9627.02</td>\n",
       "    </tr>\n",
       "    <tr>\n",
       "      <th>2013-11-30</th>\n",
       "      <td>10</td>\n",
       "      <td>40999.01</td>\n",
       "    </tr>\n",
       "    <tr>\n",
       "      <th>2013-12-31</th>\n",
       "      <td>6</td>\n",
       "      <td>36582.00</td>\n",
       "    </tr>\n",
       "  </tbody>\n",
       "</table>\n",
       "</div>"
      ],
      "text/plain": [
       "               New_or_Returning  Total_Sales\n",
       "Date_of_Order                               \n",
       "2013-08-31                    3      7410.00\n",
       "2013-09-30                    4     13538.40\n",
       "2013-10-31                    5      9627.02\n",
       "2013-11-30                   10     40999.01\n",
       "2013-12-31                    6     36582.00"
      ]
     },
     "execution_count": 46,
     "metadata": {},
     "output_type": "execute_result"
    }
   ],
   "source": [
    "# Deleting all rows before 2013-08-31. Keeping only two business years 2013 - 2015. \n",
    "Month_ind = Index_by_Month.drop(Index_by_Month.index[:36])\n",
    "Month_ind.head()"
   ]
  },
  {
   "cell_type": "markdown",
   "metadata": {},
   "source": [
    "# Importing a new dataset (Cost of Ads per month)"
   ]
  },
  {
   "cell_type": "code",
   "execution_count": null,
   "metadata": {
    "collapsed": false
   },
   "outputs": [],
   "source": [
    "#Loading another dataset from excel into python from a different sheet, and making the Date column the index.\n",
    "Ads_df = pd.read_excel('Sales Data.xlsm', sheetname = 'Ads', index_col='Date')\n",
    "Ads_df.head()"
   ]
  },
  {
   "cell_type": "code",
   "execution_count": null,
   "metadata": {
    "collapsed": false
   },
   "outputs": [],
   "source": [
    "# Renaming the column\n",
    "# Resampling the date column, so that the month is synonymous with the other table \n",
    "Ads_df.columns = ['Ad_Cost']\n",
    "Ads_df = Ads_df.resample('M', how=('sum'))   \n",
    "Ads_df.head()"
   ]
  },
  {
   "cell_type": "code",
   "execution_count": null,
   "metadata": {
    "collapsed": false
   },
   "outputs": [],
   "source": [
    "# Combining the two dataframes by the date of order, and resetting the index.\n",
    "Combined_df = pd.concat([Month_ind, Ads_df], axis=1, join_axes=[Month_ind.index]).reset_index()\n",
    "Combined_df.head()"
   ]
  },
  {
   "cell_type": "code",
   "execution_count": null,
   "metadata": {
    "collapsed": false
   },
   "outputs": [],
   "source": [
    "#change figure size\n",
    "plt.figure(figsize=(12,10)) # in inches, width then height. \n",
    "\n",
    "#creating subplots and defining them\n",
    "# 3 rows, 1 columns, 1st subplot\n",
    "plt.subplot(3,1,1)      \n",
    "plt.plot(Combined_df.Date_of_Order, Combined_df.Total_Sales, marker='o', color ='m', linestyle='--')\n",
    "#Add title\n",
    "plt.title('Sales to New Customers per Month')\n",
    "#Add gridlines\n",
    "plt.grid(True)\n",
    "#Add axis labels\n",
    "plt.ylabel('Sales to New Customers ($)')\n",
    "\n",
    "# 3 rows, 1 columns, 2nd subplot\n",
    "plt.subplot(3,1,2)      \n",
    "plt.plot(Combined_df.Date_of_Order, Combined_df.Ad_Cost, marker='o', color ='m', linestyle='--')\n",
    "#Add title\n",
    "plt.title('Cost of Ads per Month')\n",
    "#Add gridlines\n",
    "plt.grid(True)\n",
    "#Add axis labels\n",
    "plt.ylabel('Cost of Ads ($)')\n",
    "\n",
    "# 3 rows, 1 columns, 3rd subplot\n",
    "plt.subplot(3,1,3)      \n",
    "plt.plot(Combined_df.Date_of_Order, Combined_df.New_or_Returning, marker='o', color ='m', linestyle='--')\n",
    "#Add title\n",
    "plt.title('Number of New Customers per Month')\n",
    "#Add gridlines\n",
    "plt.grid(True)\n",
    "#Add axis labels\n",
    "plt.ylabel('Number of New Customers')\n",
    "\n",
    "# give plots some breathing room\n",
    "plt.tight_layout()\n",
    "\n",
    "#show plot\n",
    "plt.show()\n",
    "\n"
   ]
  },
  {
   "cell_type": "markdown",
   "metadata": {},
   "source": [
    "#PLOT 2: Plotting the distribution of sales over the years 2013- 2015 by month. (Instead of plotting Sales, could plot the number of customers. "
   ]
  },
  {
   "cell_type": "code",
   "execution_count": null,
   "metadata": {
    "collapsed": true
   },
   "outputs": [],
   "source": []
  }
 ],
 "metadata": {
  "kernelspec": {
   "display_name": "Python 3",
   "language": "python",
   "name": "python3"
  },
  "language_info": {
   "codemirror_mode": {
    "name": "ipython",
    "version": 3
   },
   "file_extension": ".py",
   "mimetype": "text/x-python",
   "name": "python",
   "nbconvert_exporter": "python",
   "pygments_lexer": "ipython3",
   "version": "3.4.3"
  }
 },
 "nbformat": 4,
 "nbformat_minor": 0
}
